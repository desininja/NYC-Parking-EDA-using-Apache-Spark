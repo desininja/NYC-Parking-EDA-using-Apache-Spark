{
  "cells": [
    {
      "cell_type": "code",
      "execution_count": 1,
      "metadata": {
        "colab": {
          "base_uri": "https://localhost:8080/"
        },
        "id": "IBXUtDf4klpw",
        "outputId": "3ff6a9f7-538c-44c6-e6c8-265ec8cf1930"
      },
      "outputs": [
        {
          "output_type": "stream",
          "name": "stdout",
          "text": [
            "Collecting pyspark\n",
            "  Downloading pyspark-3.5.0.tar.gz (316.9 MB)\n",
            "\u001b[2K     \u001b[90m━━━━━━━━━━━━━━━━━━━━━━━━━━━━━━━━━━━━━━━━\u001b[0m \u001b[32m316.9/316.9 MB\u001b[0m \u001b[31m3.1 MB/s\u001b[0m eta \u001b[36m0:00:00\u001b[0m\n",
            "\u001b[?25h  Preparing metadata (setup.py) ... \u001b[?25l\u001b[?25hdone\n",
            "Requirement already satisfied: py4j==0.10.9.7 in /usr/local/lib/python3.10/dist-packages (from pyspark) (0.10.9.7)\n",
            "Building wheels for collected packages: pyspark\n",
            "  Building wheel for pyspark (setup.py) ... \u001b[?25l\u001b[?25hdone\n",
            "  Created wheel for pyspark: filename=pyspark-3.5.0-py2.py3-none-any.whl size=317425345 sha256=8cc1544c410210d1d6ff27b3d7c00be0f51dcb31e631de55bf3f8bb9a11757f1\n",
            "  Stored in directory: /root/.cache/pip/wheels/41/4e/10/c2cf2467f71c678cfc8a6b9ac9241e5e44a01940da8fbb17fc\n",
            "Successfully built pyspark\n",
            "Installing collected packages: pyspark\n",
            "Successfully installed pyspark-3.5.0\n"
          ]
        }
      ],
      "source": [
        "!pip install pyspark"
      ]
    },
    {
      "cell_type": "code",
      "source": [
        "\n",
        "from pyspark.sql import SparkSession\n",
        "\n",
        "spark = SparkSession.builder.appName(\"NYC Case Study\").master(\"local\").getOrCreate()\n",
        "sc = spark.sparkContext"
      ],
      "metadata": {
        "id": "5g_2xYfXlOlZ"
      },
      "execution_count": 2,
      "outputs": []
    },
    {
      "cell_type": "code",
      "execution_count": 3,
      "metadata": {
        "id": "xiiYQpPnklp9"
      },
      "outputs": [],
      "source": [
        "tickets_2017 = spark.read.format(\"csv\").option(\"header\", \"true\").load('/content/Parking_Violations_Issued_-_Fiscal_Year_2017.csv')"
      ]
    },
    {
      "cell_type": "code",
      "execution_count": 4,
      "metadata": {
        "id": "SITJAvbmklp-"
      },
      "outputs": [],
      "source": [
        "tickets_2017 = tickets_2017.select(\"Summons Number\",\"Plate ID\",\"Registration State\",\"Issue Date\",\"Violation Code\",\"Vehicle Body Type\",\"Vehicle Make\",\"Violation Precinct\",\"Issuer Precinct\",\"Violation Time\")\n"
      ]
    },
    {
      "cell_type": "code",
      "execution_count": 5,
      "metadata": {
        "colab": {
          "base_uri": "https://localhost:8080/"
        },
        "id": "nobDgnBUklp-",
        "outputId": "70a07468-13a8-4b2f-c262-5a0df7cf8c6c"
      },
      "outputs": [
        {
          "output_type": "stream",
          "name": "stdout",
          "text": [
            "root\n",
            " |-- Summons Number: string (nullable = true)\n",
            " |-- Plate ID: string (nullable = true)\n",
            " |-- Registration State: string (nullable = true)\n",
            " |-- Issue Date: string (nullable = true)\n",
            " |-- Violation Code: string (nullable = true)\n",
            " |-- Vehicle Body Type: string (nullable = true)\n",
            " |-- Vehicle Make: string (nullable = true)\n",
            " |-- Violation Precinct: string (nullable = true)\n",
            " |-- Issuer Precinct: string (nullable = true)\n",
            " |-- Violation Time: string (nullable = true)\n",
            "\n"
          ]
        }
      ],
      "source": [
        "tickets_2017.printSchema()"
      ]
    },
    {
      "cell_type": "code",
      "execution_count": 6,
      "metadata": {
        "colab": {
          "base_uri": "https://localhost:8080/"
        },
        "id": "5fAjr4uSklp_",
        "outputId": "ea258f52-b6fd-4932-9693-f57eb4c36cd0"
      },
      "outputs": [
        {
          "output_type": "stream",
          "name": "stdout",
          "text": [
            "+--------------+--------+------------------+----------+--------------+-----------------+------------+------------------+---------------+--------------+\n",
            "|Summons Number|Plate ID|Registration State|Issue Date|Violation Code|Vehicle Body Type|Vehicle Make|Violation Precinct|Issuer Precinct|Violation Time|\n",
            "+--------------+--------+------------------+----------+--------------+-----------------+------------+------------------+---------------+--------------+\n",
            "|    5092469481| GZH7067|                NY|07/10/2016|             7|             SUBN|       TOYOT|                 0|              0|         0143A|\n",
            "|    5092451658| GZH7067|                NY|07/08/2016|             7|             SUBN|       TOYOT|                 0|              0|         0400P|\n",
            "|    4006265037| FZX9232|                NY|08/23/2016|             5|             SUBN|        FORD|                 0|              0|         0233P|\n",
            "|    8478629828| 66623ME|                NY|06/14/2017|            47|             REFG|       MITSU|                14|             14|         1120A|\n",
            "|    7868300310| 37033JV|                NY|11/21/2016|            69|             DELV|       INTER|                13|             13|         0555P|\n",
            "+--------------+--------+------------------+----------+--------------+-----------------+------------+------------------+---------------+--------------+\n",
            "only showing top 5 rows\n",
            "\n"
          ]
        }
      ],
      "source": [
        "tickets_2017.show(5)"
      ]
    },
    {
      "cell_type": "code",
      "execution_count": 7,
      "metadata": {
        "colab": {
          "base_uri": "https://localhost:8080/"
        },
        "id": "gomXQJ43klp_",
        "outputId": "5d11d72b-ecd7-4669-95c6-09a4c477ea61"
      },
      "outputs": [
        {
          "output_type": "stream",
          "name": "stdout",
          "text": [
            "+-------+--------------------+-----------------+------------------+----------+------------------+------------------+------------+------------------+-----------------+--------------+\n",
            "|summary|      Summons Number|         Plate ID|Registration State|Issue Date|    Violation Code| Vehicle Body Type|Vehicle Make|Violation Precinct|  Issuer Precinct|Violation Time|\n",
            "+-------+--------------------+-----------------+------------------+----------+------------------+------------------+------------+------------------+-----------------+--------------+\n",
            "|  count|               48771|            48771|             48771|     48771|             48771|             48594|       48445|             48771|            48771|         48771|\n",
            "|   mean| 6.858202851162699E9|1888038.675804529|              99.0|      NULL|34.832318385926065|3.9476439790575917|        NULL| 45.49937462836522|47.00225543868282|          NULL|\n",
            "| stddev|2.3047056755701222E9|3616944.469201554|               0.0|      NULL|19.386938046503083|0.4558187531682668|        NULL| 40.47294393431248|60.80095117991055|          NULL|\n",
            "|    min|          1256450339|            #1MOM|                99|01/01/2017|                 1|              2 DR|       ACURA|                 0|                0|         0000A|\n",
            "|    max|          8585450370|           ZZW34S|                WY|12/31/2016|                99|               WIS|       ZENIT|                96|              985|         1259P|\n",
            "+-------+--------------------+-----------------+------------------+----------+------------------+------------------+------------+------------------+-----------------+--------------+\n",
            "\n"
          ]
        }
      ],
      "source": [
        "tickets_2017.describe().show()"
      ]
    },
    {
      "cell_type": "code",
      "execution_count": 8,
      "metadata": {
        "colab": {
          "base_uri": "https://localhost:8080/"
        },
        "id": "DKXptGIrklqA",
        "outputId": "ee217065-f6c6-47c0-ca3a-f4eca3c2716f"
      },
      "outputs": [
        {
          "output_type": "execute_result",
          "data": {
            "text/plain": [
              "48771"
            ]
          },
          "metadata": {},
          "execution_count": 8
        }
      ],
      "source": [
        "# 1. Find the total number of tickets for the year.\n",
        "tickets_2017.count()"
      ]
    },
    {
      "cell_type": "code",
      "execution_count": 9,
      "metadata": {
        "id": "B9yU6LHcklqA"
      },
      "outputs": [],
      "source": [
        "# For using SQL, you need to create a temporary view\n",
        "tickets_2017.createOrReplaceTempView(\"data_2017\")"
      ]
    },
    {
      "cell_type": "code",
      "execution_count": 10,
      "metadata": {
        "colab": {
          "base_uri": "https://localhost:8080/"
        },
        "id": "3Z4caCDTklqB",
        "outputId": "2555bcfc-5b4a-420d-9e37-b5363b0c5a53"
      },
      "outputs": [
        {
          "output_type": "stream",
          "name": "stdout",
          "text": [
            "+-----+\n",
            "|count|\n",
            "+-----+\n",
            "|   59|\n",
            "+-----+\n",
            "\n"
          ]
        }
      ],
      "source": [
        "# 2. Find out the number of unique states from where the cars\n",
        "# that got parking tickets came from. (Hint: Use 'Registration State')\n",
        "spark.sql(\"SELECT count(distinct `Registration State`) as count FROM data_2017\").show()"
      ]
    },
    {
      "cell_type": "code",
      "execution_count": 11,
      "metadata": {
        "colab": {
          "base_uri": "https://localhost:8080/"
        },
        "id": "2fHSSrDIklqB",
        "outputId": "c546f3da-8807-4e69-e913-3fb74f60e3cd"
      },
      "outputs": [
        {
          "output_type": "stream",
          "name": "stdout",
          "text": [
            "+------------------+-----+\n",
            "|Registration State|count|\n",
            "+------------------+-----+\n",
            "|                NY|38175|\n",
            "|                NJ| 4214|\n",
            "|                PA| 1320|\n",
            "|                CT|  658|\n",
            "|                FL|  657|\n",
            "|                MA|  395|\n",
            "|                IN|  390|\n",
            "|                VA|  347|\n",
            "|                MD|  279|\n",
            "|                NC|  235|\n",
            "|                TX|  179|\n",
            "|                99|  160|\n",
            "|                GA|  160|\n",
            "|                IL|  156|\n",
            "|                AZ|  121|\n",
            "|                CA|  114|\n",
            "|                OH|  113|\n",
            "|                ME|  108|\n",
            "|                SC|   99|\n",
            "|                MN|   92|\n",
            "+------------------+-----+\n",
            "only showing top 20 rows\n",
            "\n"
          ]
        }
      ],
      "source": [
        "# Arranging the dataframe based on number of entries\n",
        "spark.sql(\"SELECT `Registration State`, count(*) as count \\\n",
        "        FROM data_2017 group by `Registration State` order by `count` desc\").show()"
      ]
    },
    {
      "cell_type": "code",
      "execution_count": 12,
      "metadata": {
        "id": "VngS3dSeklqB"
      },
      "outputs": [],
      "source": [
        "#Replacing '99' by 'NY' in the dataframe\n",
        "from pyspark.sql import functions as F\n",
        "tickets_2017_new = tickets_2017.withColumn('Registration State',F.when(tickets_2017['Registration State']=='99','NY').otherwise(tickets_2017['Registration State']))"
      ]
    },
    {
      "cell_type": "code",
      "execution_count": 13,
      "metadata": {
        "id": "GTnSaSD6klqC"
      },
      "outputs": [],
      "source": [
        "# The temporary view needs to be recreated as values have been updated in tickets_2017_new\n",
        "tickets_2017_new.createOrReplaceTempView(\"data_2017\")"
      ]
    },
    {
      "cell_type": "code",
      "execution_count": 14,
      "metadata": {
        "colab": {
          "base_uri": "https://localhost:8080/"
        },
        "id": "viYcWoYdklqC",
        "outputId": "33852c22-f1dd-4656-f587-a09d578373f7"
      },
      "outputs": [
        {
          "output_type": "stream",
          "name": "stdout",
          "text": [
            "+------------------+-----+\n",
            "|Registration State|count|\n",
            "+------------------+-----+\n",
            "|                NY|38335|\n",
            "|                NJ| 4214|\n",
            "|                PA| 1320|\n",
            "|                CT|  658|\n",
            "|                FL|  657|\n",
            "|                MA|  395|\n",
            "|                IN|  390|\n",
            "|                VA|  347|\n",
            "|                MD|  279|\n",
            "|                NC|  235|\n",
            "|                TX|  179|\n",
            "|                GA|  160|\n",
            "|                IL|  156|\n",
            "|                AZ|  121|\n",
            "|                CA|  114|\n",
            "|                OH|  113|\n",
            "|                ME|  108|\n",
            "|                SC|   99|\n",
            "|                MN|   92|\n",
            "|                DE|   83|\n",
            "+------------------+-----+\n",
            "only showing top 20 rows\n",
            "\n"
          ]
        }
      ],
      "source": [
        "spark.sql(\"SELECT `Registration State`, count(*) as count \\\n",
        "        FROM data_2017 group by `Registration State` order by `count` desc\").show()"
      ]
    },
    {
      "cell_type": "code",
      "execution_count": 15,
      "metadata": {
        "colab": {
          "base_uri": "https://localhost:8080/"
        },
        "id": "Cw0UqKDnklqC",
        "outputId": "c2e18be3-070d-477d-f921-9577eb7bf982"
      },
      "outputs": [
        {
          "output_type": "stream",
          "name": "stdout",
          "text": [
            "+-----+\n",
            "|count|\n",
            "+-----+\n",
            "|   58|\n",
            "+-----+\n",
            "\n"
          ]
        }
      ],
      "source": [
        "spark.sql('SELECT count(distinct `Registration State`) as count \\\n",
        "                 FROM data_2017').show()"
      ]
    },
    {
      "cell_type": "markdown",
      "metadata": {
        "id": "JLmO9vtpklqC"
      },
      "source": [
        "### AGGREGATION TASKS"
      ]
    },
    {
      "cell_type": "code",
      "execution_count": 16,
      "metadata": {
        "colab": {
          "base_uri": "https://localhost:8080/"
        },
        "id": "W8C5dLeaklqF",
        "outputId": "89fcee54-70bf-400c-e80d-c4b5a73b843a"
      },
      "outputs": [
        {
          "output_type": "stream",
          "name": "stdout",
          "text": [
            "+--------------+-----+\n",
            "|Violation Code|count|\n",
            "+--------------+-----+\n",
            "|            21| 6878|\n",
            "|            36| 6169|\n",
            "|            38| 4901|\n",
            "|            14| 4120|\n",
            "|            20| 2815|\n",
            "+--------------+-----+\n",
            "\n"
          ]
        }
      ],
      "source": [
        "spark.sql('SELECT `Violation Code`, count(*) as count \\\n",
        "                    FROM data_2017 group by `Violation Code` order by `count` desc limit 5').show()"
      ]
    },
    {
      "cell_type": "code",
      "execution_count": 17,
      "metadata": {
        "colab": {
          "base_uri": "https://localhost:8080/"
        },
        "id": "8M3QJdzBklqF",
        "outputId": "5358d683-ab1c-49b6-d16b-7e59d6b7c878"
      },
      "outputs": [
        {
          "output_type": "stream",
          "name": "stdout",
          "text": [
            "+-----------------+-----+\n",
            "|Vehicle Body Type|count|\n",
            "+-----------------+-----+\n",
            "|             SUBN|16820|\n",
            "|             4DSD|14073|\n",
            "|              VAN| 6409|\n",
            "|             DELV| 3080|\n",
            "|              SDN| 1973|\n",
            "+-----------------+-----+\n",
            "\n"
          ]
        }
      ],
      "source": [
        "## Here, `Violation Code` will be replaced by the each of the following variables:\n",
        "spark.sql('SELECT `Vehicle Body Type`, count(*) as count FROM data_2017 \\\n",
        "                    group by `Vehicle Body Type` order by `count` desc limit 5').show()"
      ]
    },
    {
      "cell_type": "code",
      "execution_count": 18,
      "metadata": {
        "colab": {
          "base_uri": "https://localhost:8080/"
        },
        "id": "YyUAkVwzklqG",
        "outputId": "4309baa2-f4df-47e5-a8e2-8c7f583f864f"
      },
      "outputs": [
        {
          "output_type": "stream",
          "name": "stdout",
          "text": [
            "+------------+-----+\n",
            "|Vehicle Make|count|\n",
            "+------------+-----+\n",
            "|        FORD| 5633|\n",
            "|       TOYOT| 5441|\n",
            "|       HONDA| 4871|\n",
            "|       NISSA| 4268|\n",
            "|       CHEVR| 3222|\n",
            "+------------+-----+\n",
            "\n"
          ]
        }
      ],
      "source": [
        "## `Vehicle Make`\n",
        "spark.sql('SELECT `Vehicle Make`, count(*) as count FROM data_2017 \\\n",
        "                    group by `Vehicle Make` order by `count` desc limit 5').show()"
      ]
    },
    {
      "cell_type": "code",
      "execution_count": 19,
      "metadata": {
        "colab": {
          "base_uri": "https://localhost:8080/"
        },
        "id": "NuDb4tioklqG",
        "outputId": "b3bf160f-f258-4e3a-a98d-61785d3084b3"
      },
      "outputs": [
        {
          "output_type": "stream",
          "name": "stdout",
          "text": [
            "+------------------+-----+\n",
            "|Violation Precinct|count|\n",
            "+------------------+-----+\n",
            "|                 0| 8965|\n",
            "|                19| 2373|\n",
            "|                14| 1608|\n",
            "|                 1| 1478|\n",
            "|                18| 1400|\n",
            "|               114| 1393|\n",
            "+------------------+-----+\n",
            "\n"
          ]
        }
      ],
      "source": [
        "## Here, `Violation Code` will be replaced by 'Violation Precinct' and 'Issuer Precinct'\n",
        "spark.sql('SELECT `Violation Precinct`, count(*) as count FROM data_2017 \\\n",
        "                    group by `Violation Precinct` order by `count` desc limit 6').show()"
      ]
    },
    {
      "cell_type": "code",
      "execution_count": 20,
      "metadata": {
        "colab": {
          "base_uri": "https://localhost:8080/"
        },
        "id": "jdkHLZinklqG",
        "outputId": "208337a8-6643-4a45-f35b-1056d3a4bfda"
      },
      "outputs": [
        {
          "output_type": "stream",
          "name": "stdout",
          "text": [
            "+---------------+-----+\n",
            "|Issuer Precinct|count|\n",
            "+---------------+-----+\n",
            "|              0|10394|\n",
            "|             19| 2331|\n",
            "|             14| 1572|\n",
            "|              1| 1442|\n",
            "|            114| 1371|\n",
            "|             18| 1350|\n",
            "+---------------+-----+\n",
            "\n"
          ]
        }
      ],
      "source": [
        "spark.sql('SELECT `Issuer Precinct`, count(*) as count FROM data_2017\\\n",
        "                    group by `Issuer Precinct` order by `count` desc limit 6').show()"
      ]
    },
    {
      "cell_type": "raw",
      "metadata": {
        "id": "_yJiVxYlklqG"
      },
      "source": [
        "Find the violation code frequency across 3 precincts which have issued the most number of tickets - do these precinct zones have an exceptionally high frequency of certain violation codes? Are these codes common across precincts?\n",
        "The top 3 precincts which have issued maximum tickets are '19', '14' and '1'"
      ]
    },
    {
      "cell_type": "code",
      "execution_count": 21,
      "metadata": {
        "colab": {
          "base_uri": "https://localhost:8080/"
        },
        "id": "A6Zv9RzEklqH",
        "outputId": "9b4ca284-6767-423b-8f5b-86abca4032ef"
      },
      "outputs": [
        {
          "output_type": "stream",
          "name": "stdout",
          "text": [
            "+---------------+--------------+-------------+\n",
            "|Issuer Precinct|Violation Code|count_tickets|\n",
            "+---------------+--------------+-------------+\n",
            "|             19|            46|          386|\n",
            "|             19|            38|          320|\n",
            "|             19|            37|          294|\n",
            "|             19|            14|          271|\n",
            "|             19|            21|          236|\n",
            "+---------------+--------------+-------------+\n",
            "\n"
          ]
        }
      ],
      "source": [
        "spark.sql(\"SELECT `Issuer Precinct`, `Violation Code`, count(*) as count_tickets \\\n",
        "                    FROM data_2017 where `Issuer Precinct` = '19'\\\n",
        "                    group by `Issuer Precinct`, `Violation Code` \\\n",
        "                    order by `count_tickets` desc limit 5\").show()"
      ]
    },
    {
      "cell_type": "code",
      "execution_count": 22,
      "metadata": {
        "colab": {
          "base_uri": "https://localhost:8080/"
        },
        "id": "6aswX-NKklqH",
        "outputId": "9483067c-4010-40fd-ec47-1a1529c3fba4"
      },
      "outputs": [
        {
          "output_type": "stream",
          "name": "stdout",
          "text": [
            "+---------------+--------------+-------------+\n",
            "|Issuer Precinct|Violation Code|count_tickets|\n",
            "+---------------+--------------+-------------+\n",
            "|             14|            14|          335|\n",
            "|             14|            69|          274|\n",
            "|             14|            31|          173|\n",
            "|             14|            47|          123|\n",
            "|             14|            42|           97|\n",
            "+---------------+--------------+-------------+\n",
            "\n"
          ]
        }
      ],
      "source": [
        "spark.sql(\"SELECT `Issuer Precinct`, `Violation Code`, count(*) as count_tickets \\\n",
        "                    FROM data_2017 where `Issuer Precinct` = '14'\\\n",
        "                    group by `Issuer Precinct`, `Violation Code` \\\n",
        "                    order by `count_tickets` desc limit 5\").show()"
      ]
    },
    {
      "cell_type": "code",
      "execution_count": 23,
      "metadata": {
        "colab": {
          "base_uri": "https://localhost:8080/"
        },
        "id": "QJttTcLEklqH",
        "outputId": "1b45bcc4-b2e1-4e6a-cd9c-48838b5b8c17"
      },
      "outputs": [
        {
          "output_type": "stream",
          "name": "stdout",
          "text": [
            "+---------------+--------------+-------------+\n",
            "|Issuer Precinct|Violation Code|count_tickets|\n",
            "+---------------+--------------+-------------+\n",
            "|              1|            14|          334|\n",
            "|              1|            16|          175|\n",
            "|              1|            20|          135|\n",
            "|              1|            46|          103|\n",
            "|              1|            38|           76|\n",
            "+---------------+--------------+-------------+\n",
            "\n"
          ]
        }
      ],
      "source": [
        "spark.sql(\"SELECT `Issuer Precinct`, `Violation Code`, count(*) as count_tickets \\\n",
        "                    FROM data_2017 where `Issuer Precinct` = '1'\\\n",
        "                    group by `Issuer Precinct`, `Violation Code` \\\n",
        "                    order by `count_tickets` desc limit 5\").show()"
      ]
    },
    {
      "cell_type": "code",
      "execution_count": 24,
      "metadata": {
        "colab": {
          "base_uri": "https://localhost:8080/"
        },
        "id": "KONAIfYiklqI",
        "outputId": "cfabf095-2628-4d73-deb2-363afd36cc51"
      },
      "outputs": [
        {
          "output_type": "stream",
          "name": "stdout",
          "text": [
            "+-----+\n",
            "|count|\n",
            "+-----+\n",
            "|    0|\n",
            "+-----+\n",
            "\n"
          ]
        }
      ],
      "source": [
        "## Check for missing values\n",
        "spark.sql(\"select count(*) as count\\\n",
        "                 FROM data_2017 where `Violation Time` is Null\").show()"
      ]
    },
    {
      "cell_type": "code",
      "execution_count": 25,
      "metadata": {
        "colab": {
          "base_uri": "https://localhost:8080/"
        },
        "id": "R-liI0gzklqI",
        "outputId": "aec76734-0b89-4538-acb4-d8bb9e1e5600"
      },
      "outputs": [
        {
          "output_type": "execute_result",
          "data": {
            "text/plain": [
              "48771"
            ]
          },
          "metadata": {},
          "execution_count": 25
        }
      ],
      "source": [
        "tickets_2017_new.select('Violation Time').dropna().count()"
      ]
    },
    {
      "cell_type": "code",
      "execution_count": 26,
      "metadata": {
        "id": "YMjNtRSCklqI"
      },
      "outputs": [],
      "source": [
        "# Check for the operation to be performed"
      ]
    },
    {
      "cell_type": "code",
      "execution_count": 27,
      "metadata": {
        "colab": {
          "base_uri": "https://localhost:8080/"
        },
        "id": "UmgkFjcpklqI",
        "outputId": "7d7bbdf3-ac36-4996-ff25-224209117461"
      },
      "outputs": [
        {
          "output_type": "stream",
          "name": "stdout",
          "text": [
            "+--------------+----------------+\n",
            "|Violation Time|Violation Time 2|\n",
            "+--------------+----------------+\n",
            "|         0143A|           01:43|\n",
            "|         0400P|           16:00|\n",
            "|         0233P|           14:33|\n",
            "|         1120A|           11:20|\n",
            "|         0555P|           17:55|\n",
            "|         0852P|           20:52|\n",
            "|         0215A|           02:15|\n",
            "|         0758A|           07:58|\n",
            "|         1005A|           10:05|\n",
            "|         0845A|           08:45|\n",
            "|         0015A|           00:15|\n",
            "|         0707A|           07:07|\n",
            "|         1022A|           10:22|\n",
            "|         1150A|           11:50|\n",
            "|         0525A|           05:25|\n",
            "|         0645P|           18:45|\n",
            "|         1122A|           11:22|\n",
            "|         0256P|           14:56|\n",
            "|         1232A|           12:32|\n",
            "|         1034A|           10:34|\n",
            "+--------------+----------------+\n",
            "only showing top 20 rows\n",
            "\n"
          ]
        }
      ],
      "source": [
        "spark.sql(\"select `Violation Time`, if(right(`Violation Time`, 1) == 'A' or left(`Violation Time`, 2) == '12',concat(substring(`Violation Time`, 1,2),\\\n",
        "                    ':', substring(`Violation Time`, 3,2)), concat(int(substring(`Violation Time`, 1,2) + 12),\\\n",
        "                    ':', substring(`Violation Time`, 3,2))) as `Violation Time 2`\\\n",
        "                    from data_2017 limit 50\").show()"
      ]
    },
    {
      "cell_type": "code",
      "execution_count": 28,
      "metadata": {
        "id": "OpUrxQDGklqJ"
      },
      "outputs": [],
      "source": [
        "# Creating a separate df with the required fields for analysis\n",
        "time_violation_analysis = spark.sql(\"select if(right(`Violation Time`, 1) == 'A' or left(`Violation Time`, 2) == '12',\\\n",
        "  concat(substring(`Violation Time`, 1,2),':', substring(`Violation Time`,3,2)),\\\n",
        "  concat(int(substring(`Violation Time`, 1,2) + 12),':', substring(`Violation Time`, 3,2)))\\\n",
        "  as `Violation Time`, `Violation Code` from data_2017\")"
      ]
    },
    {
      "cell_type": "code",
      "execution_count": 29,
      "metadata": {
        "colab": {
          "base_uri": "https://localhost:8080/"
        },
        "id": "VR8dicsSklqJ",
        "outputId": "6f93e3b7-ed94-4807-f110-a8cd9e6ce1bf"
      },
      "outputs": [
        {
          "output_type": "stream",
          "name": "stdout",
          "text": [
            "+--------------+--------------+\n",
            "|Violation Time|Violation Code|\n",
            "+--------------+--------------+\n",
            "|         01:43|             7|\n",
            "|         16:00|             7|\n",
            "|         14:33|             5|\n",
            "|         11:20|            47|\n",
            "|         17:55|            69|\n",
            "|         20:52|             7|\n",
            "|         02:15|            40|\n",
            "|         07:58|            36|\n",
            "|         10:05|            36|\n",
            "|         08:45|             5|\n",
            "|         00:15|            78|\n",
            "|         07:07|            19|\n",
            "|         10:22|            36|\n",
            "|         11:50|            21|\n",
            "|         05:25|            40|\n",
            "|         18:45|            71|\n",
            "|         11:22|             7|\n",
            "|         14:56|            64|\n",
            "|         12:32|            20|\n",
            "|         10:34|            36|\n",
            "+--------------+--------------+\n",
            "only showing top 20 rows\n",
            "\n"
          ]
        }
      ],
      "source": [
        "time_violation_analysis.show()"
      ]
    },
    {
      "cell_type": "code",
      "execution_count": 30,
      "metadata": {
        "id": "d5PYMBtXklqJ"
      },
      "outputs": [],
      "source": [
        "# For using SQL, you need to create a temporary view\n",
        "time_violation_analysis.createOrReplaceTempView('time_violation_data')"
      ]
    },
    {
      "cell_type": "code",
      "execution_count": 31,
      "metadata": {
        "id": "UA4cP85OklqL"
      },
      "outputs": [],
      "source": [
        "time_violation_analysis = spark.sql('''select case\n",
        "                                       when int(substring(`Violation Time`,1,2)) between 00 and 03\n",
        "                                       then '00:00-03:59'\n",
        "                                       when int(substring(`Violation Time`,1,2)) between 04 and 07\n",
        "                                       then '04:00-07:59'\n",
        "                                       when int(substring(`Violation Time`,1,2)) between 08 and 11\n",
        "                                       then '08:00-11:59'\n",
        "                                       when int(substring(`Violation Time`,1,2)) between 12 and 15\n",
        "                                       then '12:00-15:59'\n",
        "                                       when int(substring(`Violation Time`,1,2)) between 16 and 19\n",
        "                                       then '16:00-19:59'\n",
        "                                       else '20:00-23:59'\n",
        "                                       end as bins,  `Violation Time`, `Violation Code`\n",
        "                                       from time_violation_data''')"
      ]
    },
    {
      "cell_type": "code",
      "execution_count": 32,
      "metadata": {
        "colab": {
          "base_uri": "https://localhost:8080/"
        },
        "id": "k9daemu4klqM",
        "outputId": "68e7c321-3edf-4200-e496-607c551d3231"
      },
      "outputs": [
        {
          "output_type": "stream",
          "name": "stdout",
          "text": [
            "+-----------+--------------+--------------+\n",
            "|       bins|Violation Time|Violation Code|\n",
            "+-----------+--------------+--------------+\n",
            "|00:00-03:59|         01:43|             7|\n",
            "|16:00-19:59|         16:00|             7|\n",
            "|12:00-15:59|         14:33|             5|\n",
            "|08:00-11:59|         11:20|            47|\n",
            "|16:00-19:59|         17:55|            69|\n",
            "|20:00-23:59|         20:52|             7|\n",
            "|00:00-03:59|         02:15|            40|\n",
            "|04:00-07:59|         07:58|            36|\n",
            "|08:00-11:59|         10:05|            36|\n",
            "|08:00-11:59|         08:45|             5|\n",
            "|00:00-03:59|         00:15|            78|\n",
            "|04:00-07:59|         07:07|            19|\n",
            "|08:00-11:59|         10:22|            36|\n",
            "|08:00-11:59|         11:50|            21|\n",
            "|04:00-07:59|         05:25|            40|\n",
            "|16:00-19:59|         18:45|            71|\n",
            "|08:00-11:59|         11:22|             7|\n",
            "|12:00-15:59|         14:56|            64|\n",
            "|12:00-15:59|         12:32|            20|\n",
            "|08:00-11:59|         10:34|            36|\n",
            "+-----------+--------------+--------------+\n",
            "only showing top 20 rows\n",
            "\n"
          ]
        }
      ],
      "source": [
        "time_violation_analysis.show()"
      ]
    },
    {
      "cell_type": "code",
      "execution_count": 33,
      "metadata": {
        "id": "I0hV2FfiklqM"
      },
      "outputs": [],
      "source": [
        "# Updating the SQL view\n",
        "time_violation_analysis.createOrReplaceTempView('time_violation_data')"
      ]
    },
    {
      "cell_type": "code",
      "execution_count": 34,
      "metadata": {
        "colab": {
          "base_uri": "https://localhost:8080/"
        },
        "id": "9tPC5SfcklqM",
        "outputId": "135e8b95-63b4-44cd-c546-d2f8577b22fe"
      },
      "outputs": [
        {
          "output_type": "stream",
          "name": "stdout",
          "text": [
            "+-----------+--------------+-----+\n",
            "|       bins|Violation Code|count|\n",
            "+-----------+--------------+-----+\n",
            "|00:00-03:59|            21|  370|\n",
            "|00:00-03:59|            40|  238|\n",
            "|00:00-03:59|            14|  133|\n",
            "+-----------+--------------+-----+\n",
            "\n"
          ]
        }
      ],
      "source": [
        "spark.sql(\"SELECT bins, `Violation Code`, count(*) as `count`\\\n",
        "                    FROM time_violation_data where bins = '00:00-03:59'\\\n",
        "                    group by bins, `Violation Code`\\\n",
        "                    order by `count` desc limit 3\").show()"
      ]
    },
    {
      "cell_type": "code",
      "execution_count": 35,
      "metadata": {
        "colab": {
          "base_uri": "https://localhost:8080/"
        },
        "id": "d5tJQLTwklqM",
        "outputId": "a3b7e476-7b9d-4ef6-9395-1e60ee4ecc8b"
      },
      "outputs": [
        {
          "output_type": "stream",
          "name": "stdout",
          "text": [
            "+-----------+--------------+-----+\n",
            "|       bins|Violation Code|count|\n",
            "+-----------+--------------+-----+\n",
            "|04:00-07:59|            14|  622|\n",
            "|04:00-07:59|            21|  544|\n",
            "|04:00-07:59|            40|  491|\n",
            "+-----------+--------------+-----+\n",
            "\n"
          ]
        }
      ],
      "source": [
        "spark.sql(\"SELECT bins, `Violation Code`, count(*) as `count`\\\n",
        "                    FROM time_violation_data where bins = '04:00-07:59'\\\n",
        "                    group by bins, `Violation Code`\\\n",
        "                    order by `count` desc limit 3\").show()"
      ]
    },
    {
      "cell_type": "code",
      "execution_count": 36,
      "metadata": {
        "colab": {
          "base_uri": "https://localhost:8080/"
        },
        "id": "oyszjav2klqM",
        "outputId": "71e46130-24cd-4dcf-a1c7-b97fd87d3b1f"
      },
      "outputs": [
        {
          "output_type": "stream",
          "name": "stdout",
          "text": [
            "+-----------+--------------+-----+\n",
            "|       bins|Violation Code|count|\n",
            "+-----------+--------------+-----+\n",
            "|08:00-11:59|            21| 5289|\n",
            "|08:00-11:59|            36| 3309|\n",
            "|08:00-11:59|            38| 1607|\n",
            "+-----------+--------------+-----+\n",
            "\n"
          ]
        }
      ],
      "source": [
        "spark.sql(\"SELECT bins, `Violation Code`, count(*) as `count`\\\n",
        "                    FROM time_violation_data where bins = '08:00-11:59'\\\n",
        "                    group by bins, `Violation Code`\\\n",
        "                    order by `count` desc limit 3\").show()"
      ]
    },
    {
      "cell_type": "code",
      "execution_count": 37,
      "metadata": {
        "colab": {
          "base_uri": "https://localhost:8080/"
        },
        "id": "lgpvUUFwklqN",
        "outputId": "04c7c719-67e8-47f7-cead-ac2bb3784905"
      },
      "outputs": [
        {
          "output_type": "stream",
          "name": "stdout",
          "text": [
            "+-----------+--------------+-----+\n",
            "|       bins|Violation Code|count|\n",
            "+-----------+--------------+-----+\n",
            "|12:00-15:59|            36| 2595|\n",
            "|12:00-15:59|            38| 2115|\n",
            "|12:00-15:59|            37| 1562|\n",
            "+-----------+--------------+-----+\n",
            "\n"
          ]
        }
      ],
      "source": [
        "spark.sql(\"SELECT bins, `Violation Code`, count(*) as `count`\\\n",
        "                    FROM time_violation_data where bins = '12:00-15:59'\\\n",
        "                    group by bins, `Violation Code`\\\n",
        "                    order by `count` desc limit 3\").show()"
      ]
    },
    {
      "cell_type": "code",
      "execution_count": 38,
      "metadata": {
        "colab": {
          "base_uri": "https://localhost:8080/"
        },
        "id": "qX8Sc6P3klqN",
        "outputId": "d82897b1-36a5-4c96-b0bf-4c0455fb5e25"
      },
      "outputs": [
        {
          "output_type": "stream",
          "name": "stdout",
          "text": [
            "+-----------+--------------+-----+\n",
            "|       bins|Violation Code|count|\n",
            "+-----------+--------------+-----+\n",
            "|16:00-19:59|            38|  937|\n",
            "|16:00-19:59|            37|  683|\n",
            "|16:00-19:59|            14|  654|\n",
            "+-----------+--------------+-----+\n",
            "\n"
          ]
        }
      ],
      "source": [
        "spark.sql(\"SELECT bins, `Violation Code`, count(*) as `count`\\\n",
        "                    FROM time_violation_data where bins = '16:00-19:59'\\\n",
        "                    group by bins, `Violation Code`\\\n",
        "                    order by `count` desc limit 3\").show()"
      ]
    },
    {
      "cell_type": "code",
      "execution_count": 39,
      "metadata": {
        "colab": {
          "base_uri": "https://localhost:8080/"
        },
        "id": "uIuHOnDKklqN",
        "outputId": "e8b39edc-adf1-4526-8fca-9f790bf1366f"
      },
      "outputs": [
        {
          "output_type": "stream",
          "name": "stdout",
          "text": [
            "+-----------+--------------+-----+\n",
            "|       bins|Violation Code|count|\n",
            "+-----------+--------------+-----+\n",
            "|20:00-23:59|             7|  252|\n",
            "|20:00-23:59|            38|  230|\n",
            "|20:00-23:59|            14|  226|\n",
            "+-----------+--------------+-----+\n",
            "\n"
          ]
        }
      ],
      "source": [
        "spark.sql(\"SELECT bins, `Violation Code`, count(*) as `count`\\\n",
        "                    FROM time_violation_data where bins = '20:00-23:59'\\\n",
        "                    group by bins, `Violation Code`\\\n",
        "                    order by `count` desc limit 3\").show()"
      ]
    },
    {
      "cell_type": "code",
      "execution_count": 40,
      "metadata": {
        "colab": {
          "base_uri": "https://localhost:8080/"
        },
        "id": "RUpAEhVmklqO",
        "outputId": "25cf9aa4-aea9-4014-f2c1-0d9c472efbf6"
      },
      "outputs": [
        {
          "output_type": "stream",
          "name": "stdout",
          "text": [
            "+--------------+-----+\n",
            "|Violation Code|count|\n",
            "+--------------+-----+\n",
            "|            21| 6878|\n",
            "|            36| 6169|\n",
            "|            38| 4901|\n",
            "+--------------+-----+\n",
            "\n"
          ]
        }
      ],
      "source": [
        "# Finding the 3 most commonly occurring violation codes\n",
        "spark.sql(\"SELECT `Violation Code`, count(*) as `count`\\\n",
        "                    FROM time_violation_data\\\n",
        "                    group by `Violation Code`\\\n",
        "                    order by `count` desc limit 3\").show()"
      ]
    },
    {
      "cell_type": "code",
      "execution_count": 41,
      "metadata": {
        "colab": {
          "base_uri": "https://localhost:8080/"
        },
        "id": "WLxZLL_9klqO",
        "outputId": "6cbab77d-11a8-4952-efe5-d8d3016ac6ac"
      },
      "outputs": [
        {
          "output_type": "stream",
          "name": "stdout",
          "text": [
            "+--------------+-----------+-----+\n",
            "|Violation Code|       bins|count|\n",
            "+--------------+-----------+-----+\n",
            "|            21|08:00-11:59| 5289|\n",
            "+--------------+-----------+-----+\n",
            "\n"
          ]
        }
      ],
      "source": [
        "spark.sql(\"SELECT `Violation Code`, bins, count(*) as `count`\\\n",
        "                    FROM time_violation_data where `Violation Code` = '21'\\\n",
        "                    group by `Violation Code`, bins\\\n",
        "                    order by `count` desc limit 1\").show()"
      ]
    },
    {
      "cell_type": "code",
      "execution_count": 42,
      "metadata": {
        "colab": {
          "base_uri": "https://localhost:8080/"
        },
        "id": "bG-gGrCFklqO",
        "outputId": "9d5b1336-2c15-4943-985b-b39e0b6c4c3c"
      },
      "outputs": [
        {
          "output_type": "stream",
          "name": "stdout",
          "text": [
            "+--------------+-----------+-----+\n",
            "|Violation Code|       bins|count|\n",
            "+--------------+-----------+-----+\n",
            "|            36|08:00-11:59| 3309|\n",
            "+--------------+-----------+-----+\n",
            "\n"
          ]
        }
      ],
      "source": [
        "spark.sql(\"SELECT `Violation Code`, bins, count(*) as `count`\\\n",
        "                    FROM time_violation_data where `Violation Code` = '36'\\\n",
        "                    group by `Violation Code`, bins\\\n",
        "                    order by `count` desc limit 1\").show()"
      ]
    },
    {
      "cell_type": "code",
      "execution_count": 43,
      "metadata": {
        "colab": {
          "base_uri": "https://localhost:8080/"
        },
        "id": "8dfB8yTBklqO",
        "outputId": "dbc21932-1129-4027-c63d-2ab26e6c3cc6"
      },
      "outputs": [
        {
          "output_type": "stream",
          "name": "stdout",
          "text": [
            "+--------------+-----------+-----+\n",
            "|Violation Code|       bins|count|\n",
            "+--------------+-----------+-----+\n",
            "|            38|12:00-15:59| 2115|\n",
            "+--------------+-----------+-----+\n",
            "\n"
          ]
        }
      ],
      "source": [
        "spark.sql(\"SELECT `Violation Code`, bins, count(*) as `count`\\\n",
        "                    FROM time_violation_data where `Violation Code` = '38'\\\n",
        "                    group by `Violation Code`, bins\\\n",
        "                    order by `count` desc limit 1\").show()"
      ]
    },
    {
      "cell_type": "code",
      "execution_count": 44,
      "metadata": {
        "id": "e4ZHa4JpklqP"
      },
      "outputs": [],
      "source": [
        "tickets_seasonality = spark.sql('''select `Violation Code`, `Issue Date`, case\n",
        "                                  when month(to_date(`Issue Date`, 'yyyy-MM-dd')) between 03 and 05\n",
        "                                  then 'spring'\n",
        "                                  when month(to_date(`Issue Date`, 'yyyy-MM-dd')) between 06 and 08\n",
        "                                  then 'summer'\n",
        "                                  when month(to_date(`Issue Date`, 'yyyy-MM-dd')) between 09 and 11\n",
        "                                  then 'autumn'\n",
        "                                  when month(to_date(`Issue Date`, 'yyyy-MM-dd')) in (1,2,12)\n",
        "                                  then 'winter'\n",
        "                                  else 'unknown'\n",
        "                                  end as season\n",
        "                                  from data_2017''')"
      ]
    },
    {
      "cell_type": "code",
      "execution_count": 45,
      "metadata": {
        "colab": {
          "base_uri": "https://localhost:8080/"
        },
        "id": "TLOpoDWHklqP",
        "outputId": "f554eb9b-5263-49f6-c5ef-51ff0b01fbb9"
      },
      "outputs": [
        {
          "output_type": "stream",
          "name": "stdout",
          "text": [
            "+--------------+----------+-------+\n",
            "|Violation Code|Issue Date| season|\n",
            "+--------------+----------+-------+\n",
            "|             7|07/10/2016|unknown|\n",
            "|             7|07/08/2016|unknown|\n",
            "|             5|08/23/2016|unknown|\n",
            "|            47|06/14/2017|unknown|\n",
            "|            69|11/21/2016|unknown|\n",
            "|             7|06/13/2017|unknown|\n",
            "|            40|08/03/2016|unknown|\n",
            "|            36|12/21/2016|unknown|\n",
            "|            36|11/21/2016|unknown|\n",
            "|             5|10/05/2016|unknown|\n",
            "|            78|01/11/2017|unknown|\n",
            "|            19|09/27/2016|unknown|\n",
            "|            36|10/27/2016|unknown|\n",
            "|            21|09/30/2016|unknown|\n",
            "|            40|02/04/2017|unknown|\n",
            "|            71|07/07/2016|unknown|\n",
            "|             7|09/24/2016|unknown|\n",
            "|            64|01/26/2017|unknown|\n",
            "|            20|04/30/2017|unknown|\n",
            "|            36|02/03/2017|unknown|\n",
            "+--------------+----------+-------+\n",
            "only showing top 20 rows\n",
            "\n"
          ]
        }
      ],
      "source": [
        "tickets_seasonality.show()"
      ]
    },
    {
      "cell_type": "code",
      "execution_count": 46,
      "metadata": {
        "id": "qrfZgneMklqQ"
      },
      "outputs": [],
      "source": [
        "# For using SQL, you need to create a temporary view\n",
        "tickets_seasonality.createOrReplaceTempView('seasonal_data')"
      ]
    },
    {
      "cell_type": "code",
      "execution_count": 47,
      "metadata": {
        "colab": {
          "base_uri": "https://localhost:8080/"
        },
        "id": "HXtIt39-klqQ",
        "outputId": "980af2c2-6bd6-4a1a-fb72-5a094846a4db"
      },
      "outputs": [
        {
          "output_type": "stream",
          "name": "stdout",
          "text": [
            "+-------+-------------+\n",
            "| season|no_of_tickets|\n",
            "+-------+-------------+\n",
            "|unknown|        48771|\n",
            "+-------+-------------+\n",
            "\n"
          ]
        }
      ],
      "source": [
        "spark.sql(\"select `season`, count(*) as no_of_tickets\\\n",
        "                    from seasonal_data\\\n",
        "                    group by `season`\\\n",
        "                    order by no_of_tickets desc\").show()"
      ]
    },
    {
      "cell_type": "code",
      "execution_count": 48,
      "metadata": {
        "colab": {
          "base_uri": "https://localhost:8080/"
        },
        "id": "zZNZuz-SklqQ",
        "outputId": "346a7217-2a3b-4845-b473-a7a9ebaf6afa"
      },
      "outputs": [
        {
          "output_type": "stream",
          "name": "stdout",
          "text": [
            "+-------+-------------+\n",
            "| season|no_of_tickets|\n",
            "+-------+-------------+\n",
            "|unknown|        48771|\n",
            "+-------+-------------+\n",
            "\n"
          ]
        }
      ],
      "source": [
        "spark.sql(\"select `season`, count(*) as no_of_tickets\\\n",
        "                    from seasonal_data\\\n",
        "                    group by `season`\\\n",
        "                    order by no_of_tickets desc\").show()"
      ]
    },
    {
      "cell_type": "code",
      "execution_count": 49,
      "metadata": {
        "colab": {
          "base_uri": "https://localhost:8080/"
        },
        "id": "VXJgt1_yklqQ",
        "outputId": "573ac53c-7f2b-4429-d94c-36cf118cb1d7"
      },
      "outputs": [
        {
          "output_type": "stream",
          "name": "stdout",
          "text": [
            "+------+--------------+-------------+\n",
            "|season|Violation Code|no_of_tickets|\n",
            "+------+--------------+-------------+\n",
            "+------+--------------+-------------+\n",
            "\n"
          ]
        }
      ],
      "source": [
        "spark.sql(\"select `season`, `Violation Code`, count(*) as no_of_tickets\\\n",
        "                    from seasonal_data where `season` = 'autumn' \\\n",
        "                    group by season, `Violation Code` order by no_of_tickets desc\\\n",
        "                    limit 3\").show()"
      ]
    },
    {
      "cell_type": "code",
      "execution_count": 50,
      "metadata": {
        "colab": {
          "base_uri": "https://localhost:8080/"
        },
        "id": "VkAcQ_GHklqQ",
        "outputId": "c1a929a9-476f-4a23-b55a-fcbb46f586ac"
      },
      "outputs": [
        {
          "output_type": "stream",
          "name": "stdout",
          "text": [
            "+------+--------------+-------------+\n",
            "|season|Violation Code|no_of_tickets|\n",
            "+------+--------------+-------------+\n",
            "+------+--------------+-------------+\n",
            "\n"
          ]
        }
      ],
      "source": [
        "spark.sql(\"select `season`, `Violation Code`, count(*) as no_of_tickets\\\n",
        "                    from seasonal_data where `season` = 'summer' \\\n",
        "                    group by season, `Violation Code` order by no_of_tickets desc\\\n",
        "                    limit 3\").show()"
      ]
    },
    {
      "cell_type": "code",
      "execution_count": 51,
      "metadata": {
        "colab": {
          "base_uri": "https://localhost:8080/"
        },
        "id": "J5zCkYQCklqR",
        "outputId": "9ea93ec1-0f2e-4f6e-87af-3455c3cb7f37"
      },
      "outputs": [
        {
          "output_type": "stream",
          "name": "stdout",
          "text": [
            "+------+--------------+-------------+\n",
            "|season|Violation Code|no_of_tickets|\n",
            "+------+--------------+-------------+\n",
            "+------+--------------+-------------+\n",
            "\n"
          ]
        }
      ],
      "source": [
        "spark.sql(\"select `season`, `Violation Code`, count(*) as no_of_tickets\\\n",
        "                    from seasonal_data where `season` = 'winter' \\\n",
        "                    group by season, `Violation Code` order by no_of_tickets desc\\\n",
        "                    limit 3\").show()"
      ]
    },
    {
      "cell_type": "code",
      "execution_count": 52,
      "metadata": {
        "colab": {
          "base_uri": "https://localhost:8080/"
        },
        "id": "I-yfEaUFklqR",
        "outputId": "14c5255a-a72e-4aca-fe6f-bfd9ee36e2ac"
      },
      "outputs": [
        {
          "output_type": "stream",
          "name": "stdout",
          "text": [
            "+--------------+-------------+\n",
            "|Violation Code|no_of_tickets|\n",
            "+--------------+-------------+\n",
            "|            21|         6878|\n",
            "|            36|         6169|\n",
            "|            38|         4901|\n",
            "+--------------+-------------+\n",
            "\n"
          ]
        }
      ],
      "source": [
        "## Total occurrences of the 3 most common violation codes\n",
        "spark.sql(\"select `Violation Code`, count(*) as `no_of_tickets`\\\n",
        "                    from data_2017\\\n",
        "                    group by `Violation Code`\\\n",
        "                    order by `no_of_tickets` desc\\\n",
        "                    limit 3\").show()"
      ]
    },
    {
      "cell_type": "code",
      "execution_count": 53,
      "metadata": {
        "colab": {
          "base_uri": "https://localhost:8080/"
        },
        "id": "JN6KHQxBklqR",
        "outputId": "cdd4c5b2-489c-4034-f0e9-441b85c196b9"
      },
      "outputs": [
        {
          "output_type": "stream",
          "name": "stdout",
          "text": [
            "+--------------+-----------+\n",
            "|Violation Code|fine_amount|\n",
            "+--------------+-----------+\n",
            "|            21|     378290|\n",
            "|            36|     308450|\n",
            "|            38|     245050|\n",
            "+--------------+-----------+\n",
            "\n"
          ]
        }
      ],
      "source": [
        "spark.sql('''select `Violation Code`, case\n",
        "                    when `Violation Code` = 21\n",
        "                    then 55 * count(*)\n",
        "                    when `Violation Code` = 36\n",
        "                    then 50* count(*)\n",
        "                    when `Violation Code` = 38\n",
        "                    then 50* count(*)\n",
        "                    else '0'\n",
        "                    end as `fine_amount`\n",
        "                    from data_2017\n",
        "                    group by `Violation Code`\n",
        "                    order by `fine_amount` desc\n",
        "                    limit 3''').show()"
      ]
    },
    {
      "cell_type": "code",
      "execution_count": 54,
      "metadata": {
        "scrolled": true,
        "id": "DecoLnKPklqS"
      },
      "outputs": [],
      "source": [
        "spark.stop()"
      ]
    },
    {
      "cell_type": "code",
      "execution_count": 54,
      "metadata": {
        "id": "nJs_8P60klqS"
      },
      "outputs": [],
      "source": []
    }
  ],
  "metadata": {
    "kernelspec": {
      "display_name": "PySpark",
      "language": "",
      "name": "pysparkkernel"
    },
    "language_info": {
      "codemirror_mode": {
        "name": "python",
        "version": 2
      },
      "mimetype": "text/x-python",
      "name": "pyspark",
      "pygments_lexer": "python2"
    },
    "colab": {
      "provenance": []
    }
  },
  "nbformat": 4,
  "nbformat_minor": 0
}